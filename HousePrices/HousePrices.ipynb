{
 "cells": [
  {
   "cell_type": "code",
   "execution_count": 173,
   "metadata": {},
   "outputs": [],
   "source": [
    "import numpy as np\n",
    "import pandas as pd"
   ]
  },
  {
   "cell_type": "code",
   "execution_count": 174,
   "metadata": {},
   "outputs": [
    {
     "data": {
      "text/plain": [
       "'c:\\\\Users\\\\toyoh\\\\Desktop\\\\python\\\\kaggle\\\\HousePrices'"
      ]
     },
     "execution_count": 174,
     "metadata": {},
     "output_type": "execute_result"
    }
   ],
   "source": [
    "import os\n",
    "os.getcwd()"
   ]
  },
  {
   "cell_type": "code",
   "execution_count": 175,
   "metadata": {},
   "outputs": [],
   "source": [
    "# TrainDataの読み込み\n",
    "data_path = \"./data/train.csv\"\n",
    "\n",
    "train_data = pd.read_csv(data_path, index_col=\"Id\")"
   ]
  },
  {
   "cell_type": "code",
   "execution_count": 176,
   "metadata": {},
   "outputs": [
    {
     "data": {
      "text/html": [
       "<div>\n",
       "<style scoped>\n",
       "    .dataframe tbody tr th:only-of-type {\n",
       "        vertical-align: middle;\n",
       "    }\n",
       "\n",
       "    .dataframe tbody tr th {\n",
       "        vertical-align: top;\n",
       "    }\n",
       "\n",
       "    .dataframe thead th {\n",
       "        text-align: right;\n",
       "    }\n",
       "</style>\n",
       "<table border=\"1\" class=\"dataframe\">\n",
       "  <thead>\n",
       "    <tr style=\"text-align: right;\">\n",
       "      <th></th>\n",
       "      <th>MSSubClass</th>\n",
       "      <th>MSZoning</th>\n",
       "      <th>LotFrontage</th>\n",
       "      <th>LotArea</th>\n",
       "      <th>Street</th>\n",
       "      <th>Alley</th>\n",
       "      <th>LotShape</th>\n",
       "      <th>LandContour</th>\n",
       "      <th>Utilities</th>\n",
       "      <th>LotConfig</th>\n",
       "      <th>...</th>\n",
       "      <th>PoolArea</th>\n",
       "      <th>PoolQC</th>\n",
       "      <th>Fence</th>\n",
       "      <th>MiscFeature</th>\n",
       "      <th>MiscVal</th>\n",
       "      <th>MoSold</th>\n",
       "      <th>YrSold</th>\n",
       "      <th>SaleType</th>\n",
       "      <th>SaleCondition</th>\n",
       "      <th>SalePrice</th>\n",
       "    </tr>\n",
       "    <tr>\n",
       "      <th>Id</th>\n",
       "      <th></th>\n",
       "      <th></th>\n",
       "      <th></th>\n",
       "      <th></th>\n",
       "      <th></th>\n",
       "      <th></th>\n",
       "      <th></th>\n",
       "      <th></th>\n",
       "      <th></th>\n",
       "      <th></th>\n",
       "      <th></th>\n",
       "      <th></th>\n",
       "      <th></th>\n",
       "      <th></th>\n",
       "      <th></th>\n",
       "      <th></th>\n",
       "      <th></th>\n",
       "      <th></th>\n",
       "      <th></th>\n",
       "      <th></th>\n",
       "      <th></th>\n",
       "    </tr>\n",
       "  </thead>\n",
       "  <tbody>\n",
       "    <tr>\n",
       "      <th>1</th>\n",
       "      <td>60</td>\n",
       "      <td>RL</td>\n",
       "      <td>65.0</td>\n",
       "      <td>8450</td>\n",
       "      <td>Pave</td>\n",
       "      <td>NaN</td>\n",
       "      <td>Reg</td>\n",
       "      <td>Lvl</td>\n",
       "      <td>AllPub</td>\n",
       "      <td>Inside</td>\n",
       "      <td>...</td>\n",
       "      <td>0</td>\n",
       "      <td>NaN</td>\n",
       "      <td>NaN</td>\n",
       "      <td>NaN</td>\n",
       "      <td>0</td>\n",
       "      <td>2</td>\n",
       "      <td>2008</td>\n",
       "      <td>WD</td>\n",
       "      <td>Normal</td>\n",
       "      <td>208500</td>\n",
       "    </tr>\n",
       "    <tr>\n",
       "      <th>2</th>\n",
       "      <td>20</td>\n",
       "      <td>RL</td>\n",
       "      <td>80.0</td>\n",
       "      <td>9600</td>\n",
       "      <td>Pave</td>\n",
       "      <td>NaN</td>\n",
       "      <td>Reg</td>\n",
       "      <td>Lvl</td>\n",
       "      <td>AllPub</td>\n",
       "      <td>FR2</td>\n",
       "      <td>...</td>\n",
       "      <td>0</td>\n",
       "      <td>NaN</td>\n",
       "      <td>NaN</td>\n",
       "      <td>NaN</td>\n",
       "      <td>0</td>\n",
       "      <td>5</td>\n",
       "      <td>2007</td>\n",
       "      <td>WD</td>\n",
       "      <td>Normal</td>\n",
       "      <td>181500</td>\n",
       "    </tr>\n",
       "    <tr>\n",
       "      <th>3</th>\n",
       "      <td>60</td>\n",
       "      <td>RL</td>\n",
       "      <td>68.0</td>\n",
       "      <td>11250</td>\n",
       "      <td>Pave</td>\n",
       "      <td>NaN</td>\n",
       "      <td>IR1</td>\n",
       "      <td>Lvl</td>\n",
       "      <td>AllPub</td>\n",
       "      <td>Inside</td>\n",
       "      <td>...</td>\n",
       "      <td>0</td>\n",
       "      <td>NaN</td>\n",
       "      <td>NaN</td>\n",
       "      <td>NaN</td>\n",
       "      <td>0</td>\n",
       "      <td>9</td>\n",
       "      <td>2008</td>\n",
       "      <td>WD</td>\n",
       "      <td>Normal</td>\n",
       "      <td>223500</td>\n",
       "    </tr>\n",
       "    <tr>\n",
       "      <th>4</th>\n",
       "      <td>70</td>\n",
       "      <td>RL</td>\n",
       "      <td>60.0</td>\n",
       "      <td>9550</td>\n",
       "      <td>Pave</td>\n",
       "      <td>NaN</td>\n",
       "      <td>IR1</td>\n",
       "      <td>Lvl</td>\n",
       "      <td>AllPub</td>\n",
       "      <td>Corner</td>\n",
       "      <td>...</td>\n",
       "      <td>0</td>\n",
       "      <td>NaN</td>\n",
       "      <td>NaN</td>\n",
       "      <td>NaN</td>\n",
       "      <td>0</td>\n",
       "      <td>2</td>\n",
       "      <td>2006</td>\n",
       "      <td>WD</td>\n",
       "      <td>Abnorml</td>\n",
       "      <td>140000</td>\n",
       "    </tr>\n",
       "    <tr>\n",
       "      <th>5</th>\n",
       "      <td>60</td>\n",
       "      <td>RL</td>\n",
       "      <td>84.0</td>\n",
       "      <td>14260</td>\n",
       "      <td>Pave</td>\n",
       "      <td>NaN</td>\n",
       "      <td>IR1</td>\n",
       "      <td>Lvl</td>\n",
       "      <td>AllPub</td>\n",
       "      <td>FR2</td>\n",
       "      <td>...</td>\n",
       "      <td>0</td>\n",
       "      <td>NaN</td>\n",
       "      <td>NaN</td>\n",
       "      <td>NaN</td>\n",
       "      <td>0</td>\n",
       "      <td>12</td>\n",
       "      <td>2008</td>\n",
       "      <td>WD</td>\n",
       "      <td>Normal</td>\n",
       "      <td>250000</td>\n",
       "    </tr>\n",
       "  </tbody>\n",
       "</table>\n",
       "<p>5 rows × 80 columns</p>\n",
       "</div>"
      ],
      "text/plain": [
       "    MSSubClass MSZoning  LotFrontage  LotArea Street Alley LotShape  \\\n",
       "Id                                                                    \n",
       "1           60       RL         65.0     8450   Pave   NaN      Reg   \n",
       "2           20       RL         80.0     9600   Pave   NaN      Reg   \n",
       "3           60       RL         68.0    11250   Pave   NaN      IR1   \n",
       "4           70       RL         60.0     9550   Pave   NaN      IR1   \n",
       "5           60       RL         84.0    14260   Pave   NaN      IR1   \n",
       "\n",
       "   LandContour Utilities LotConfig  ... PoolArea PoolQC Fence MiscFeature  \\\n",
       "Id                                  ...                                     \n",
       "1          Lvl    AllPub    Inside  ...        0    NaN   NaN         NaN   \n",
       "2          Lvl    AllPub       FR2  ...        0    NaN   NaN         NaN   \n",
       "3          Lvl    AllPub    Inside  ...        0    NaN   NaN         NaN   \n",
       "4          Lvl    AllPub    Corner  ...        0    NaN   NaN         NaN   \n",
       "5          Lvl    AllPub       FR2  ...        0    NaN   NaN         NaN   \n",
       "\n",
       "   MiscVal MoSold  YrSold  SaleType  SaleCondition  SalePrice  \n",
       "Id                                                             \n",
       "1        0      2    2008        WD         Normal     208500  \n",
       "2        0      5    2007        WD         Normal     181500  \n",
       "3        0      9    2008        WD         Normal     223500  \n",
       "4        0      2    2006        WD        Abnorml     140000  \n",
       "5        0     12    2008        WD         Normal     250000  \n",
       "\n",
       "[5 rows x 80 columns]"
      ]
     },
     "execution_count": 176,
     "metadata": {},
     "output_type": "execute_result"
    }
   ],
   "source": [
    "train_data.head()"
   ]
  },
  {
   "cell_type": "code",
   "execution_count": 177,
   "metadata": {},
   "outputs": [],
   "source": [
    "# Targetを分離\n",
    "y = train_data[\"SalePrice\"]\n",
    "X = train_data.drop([\"SalePrice\"], axis=1)"
   ]
  },
  {
   "cell_type": "code",
   "execution_count": 178,
   "metadata": {},
   "outputs": [
    {
     "data": {
      "text/plain": [
       "(1460, 79)"
      ]
     },
     "execution_count": 178,
     "metadata": {},
     "output_type": "execute_result"
    }
   ],
   "source": [
    "X.shape"
   ]
  },
  {
   "cell_type": "code",
   "execution_count": 179,
   "metadata": {},
   "outputs": [
    {
     "data": {
      "text/html": [
       "<div>\n",
       "<style scoped>\n",
       "    .dataframe tbody tr th:only-of-type {\n",
       "        vertical-align: middle;\n",
       "    }\n",
       "\n",
       "    .dataframe tbody tr th {\n",
       "        vertical-align: top;\n",
       "    }\n",
       "\n",
       "    .dataframe thead th {\n",
       "        text-align: right;\n",
       "    }\n",
       "</style>\n",
       "<table border=\"1\" class=\"dataframe\">\n",
       "  <thead>\n",
       "    <tr style=\"text-align: right;\">\n",
       "      <th></th>\n",
       "      <th>MSSubClass</th>\n",
       "      <th>MSZoning</th>\n",
       "      <th>LotFrontage</th>\n",
       "      <th>LotArea</th>\n",
       "      <th>Street</th>\n",
       "      <th>Alley</th>\n",
       "      <th>LotShape</th>\n",
       "      <th>LandContour</th>\n",
       "      <th>Utilities</th>\n",
       "      <th>LotConfig</th>\n",
       "      <th>...</th>\n",
       "      <th>ScreenPorch</th>\n",
       "      <th>PoolArea</th>\n",
       "      <th>PoolQC</th>\n",
       "      <th>Fence</th>\n",
       "      <th>MiscFeature</th>\n",
       "      <th>MiscVal</th>\n",
       "      <th>MoSold</th>\n",
       "      <th>YrSold</th>\n",
       "      <th>SaleType</th>\n",
       "      <th>SaleCondition</th>\n",
       "    </tr>\n",
       "    <tr>\n",
       "      <th>Id</th>\n",
       "      <th></th>\n",
       "      <th></th>\n",
       "      <th></th>\n",
       "      <th></th>\n",
       "      <th></th>\n",
       "      <th></th>\n",
       "      <th></th>\n",
       "      <th></th>\n",
       "      <th></th>\n",
       "      <th></th>\n",
       "      <th></th>\n",
       "      <th></th>\n",
       "      <th></th>\n",
       "      <th></th>\n",
       "      <th></th>\n",
       "      <th></th>\n",
       "      <th></th>\n",
       "      <th></th>\n",
       "      <th></th>\n",
       "      <th></th>\n",
       "      <th></th>\n",
       "    </tr>\n",
       "  </thead>\n",
       "  <tbody>\n",
       "    <tr>\n",
       "      <th>1</th>\n",
       "      <td>60</td>\n",
       "      <td>RL</td>\n",
       "      <td>65.0</td>\n",
       "      <td>8450</td>\n",
       "      <td>Pave</td>\n",
       "      <td>NaN</td>\n",
       "      <td>Reg</td>\n",
       "      <td>Lvl</td>\n",
       "      <td>AllPub</td>\n",
       "      <td>Inside</td>\n",
       "      <td>...</td>\n",
       "      <td>0</td>\n",
       "      <td>0</td>\n",
       "      <td>NaN</td>\n",
       "      <td>NaN</td>\n",
       "      <td>NaN</td>\n",
       "      <td>0</td>\n",
       "      <td>2</td>\n",
       "      <td>2008</td>\n",
       "      <td>WD</td>\n",
       "      <td>Normal</td>\n",
       "    </tr>\n",
       "    <tr>\n",
       "      <th>2</th>\n",
       "      <td>20</td>\n",
       "      <td>RL</td>\n",
       "      <td>80.0</td>\n",
       "      <td>9600</td>\n",
       "      <td>Pave</td>\n",
       "      <td>NaN</td>\n",
       "      <td>Reg</td>\n",
       "      <td>Lvl</td>\n",
       "      <td>AllPub</td>\n",
       "      <td>FR2</td>\n",
       "      <td>...</td>\n",
       "      <td>0</td>\n",
       "      <td>0</td>\n",
       "      <td>NaN</td>\n",
       "      <td>NaN</td>\n",
       "      <td>NaN</td>\n",
       "      <td>0</td>\n",
       "      <td>5</td>\n",
       "      <td>2007</td>\n",
       "      <td>WD</td>\n",
       "      <td>Normal</td>\n",
       "    </tr>\n",
       "    <tr>\n",
       "      <th>3</th>\n",
       "      <td>60</td>\n",
       "      <td>RL</td>\n",
       "      <td>68.0</td>\n",
       "      <td>11250</td>\n",
       "      <td>Pave</td>\n",
       "      <td>NaN</td>\n",
       "      <td>IR1</td>\n",
       "      <td>Lvl</td>\n",
       "      <td>AllPub</td>\n",
       "      <td>Inside</td>\n",
       "      <td>...</td>\n",
       "      <td>0</td>\n",
       "      <td>0</td>\n",
       "      <td>NaN</td>\n",
       "      <td>NaN</td>\n",
       "      <td>NaN</td>\n",
       "      <td>0</td>\n",
       "      <td>9</td>\n",
       "      <td>2008</td>\n",
       "      <td>WD</td>\n",
       "      <td>Normal</td>\n",
       "    </tr>\n",
       "    <tr>\n",
       "      <th>4</th>\n",
       "      <td>70</td>\n",
       "      <td>RL</td>\n",
       "      <td>60.0</td>\n",
       "      <td>9550</td>\n",
       "      <td>Pave</td>\n",
       "      <td>NaN</td>\n",
       "      <td>IR1</td>\n",
       "      <td>Lvl</td>\n",
       "      <td>AllPub</td>\n",
       "      <td>Corner</td>\n",
       "      <td>...</td>\n",
       "      <td>0</td>\n",
       "      <td>0</td>\n",
       "      <td>NaN</td>\n",
       "      <td>NaN</td>\n",
       "      <td>NaN</td>\n",
       "      <td>0</td>\n",
       "      <td>2</td>\n",
       "      <td>2006</td>\n",
       "      <td>WD</td>\n",
       "      <td>Abnorml</td>\n",
       "    </tr>\n",
       "    <tr>\n",
       "      <th>5</th>\n",
       "      <td>60</td>\n",
       "      <td>RL</td>\n",
       "      <td>84.0</td>\n",
       "      <td>14260</td>\n",
       "      <td>Pave</td>\n",
       "      <td>NaN</td>\n",
       "      <td>IR1</td>\n",
       "      <td>Lvl</td>\n",
       "      <td>AllPub</td>\n",
       "      <td>FR2</td>\n",
       "      <td>...</td>\n",
       "      <td>0</td>\n",
       "      <td>0</td>\n",
       "      <td>NaN</td>\n",
       "      <td>NaN</td>\n",
       "      <td>NaN</td>\n",
       "      <td>0</td>\n",
       "      <td>12</td>\n",
       "      <td>2008</td>\n",
       "      <td>WD</td>\n",
       "      <td>Normal</td>\n",
       "    </tr>\n",
       "  </tbody>\n",
       "</table>\n",
       "<p>5 rows × 79 columns</p>\n",
       "</div>"
      ],
      "text/plain": [
       "    MSSubClass MSZoning  LotFrontage  LotArea Street Alley LotShape  \\\n",
       "Id                                                                    \n",
       "1           60       RL         65.0     8450   Pave   NaN      Reg   \n",
       "2           20       RL         80.0     9600   Pave   NaN      Reg   \n",
       "3           60       RL         68.0    11250   Pave   NaN      IR1   \n",
       "4           70       RL         60.0     9550   Pave   NaN      IR1   \n",
       "5           60       RL         84.0    14260   Pave   NaN      IR1   \n",
       "\n",
       "   LandContour Utilities LotConfig  ... ScreenPorch PoolArea PoolQC Fence  \\\n",
       "Id                                  ...                                     \n",
       "1          Lvl    AllPub    Inside  ...           0        0    NaN   NaN   \n",
       "2          Lvl    AllPub       FR2  ...           0        0    NaN   NaN   \n",
       "3          Lvl    AllPub    Inside  ...           0        0    NaN   NaN   \n",
       "4          Lvl    AllPub    Corner  ...           0        0    NaN   NaN   \n",
       "5          Lvl    AllPub       FR2  ...           0        0    NaN   NaN   \n",
       "\n",
       "   MiscFeature MiscVal  MoSold  YrSold  SaleType  SaleCondition  \n",
       "Id                                                               \n",
       "1          NaN       0       2    2008        WD         Normal  \n",
       "2          NaN       0       5    2007        WD         Normal  \n",
       "3          NaN       0       9    2008        WD         Normal  \n",
       "4          NaN       0       2    2006        WD        Abnorml  \n",
       "5          NaN       0      12    2008        WD         Normal  \n",
       "\n",
       "[5 rows x 79 columns]"
      ]
     },
     "execution_count": 179,
     "metadata": {},
     "output_type": "execute_result"
    }
   ],
   "source": [
    "X.head()"
   ]
  },
  {
   "cell_type": "code",
   "execution_count": 180,
   "metadata": {},
   "outputs": [
    {
     "name": "stdout",
     "output_type": "stream",
     "text": [
      "36\n",
      "Numerical variables: ['MSSubClass', 'LotFrontage', 'LotArea', 'OverallQual', 'OverallCond', 'YearBuilt', 'YearRemodAdd', 'MasVnrArea', 'BsmtFinSF1', 'BsmtFinSF2', 'BsmtUnfSF', 'TotalBsmtSF', '1stFlrSF', '2ndFlrSF', 'LowQualFinSF', 'GrLivArea', 'BsmtFullBath', 'BsmtHalfBath', 'FullBath', 'HalfBath', 'BedroomAbvGr', 'KitchenAbvGr', 'TotRmsAbvGrd', 'Fireplaces', 'GarageYrBlt', 'GarageCars', 'GarageArea', 'WoodDeckSF', 'OpenPorchSF', 'EnclosedPorch', '3SsnPorch', 'ScreenPorch', 'PoolArea', 'MiscVal', 'MoSold', 'YrSold']\n"
     ]
    }
   ],
   "source": [
    "# 数値特徴量の抽出\n",
    "num_cols = [cname for cname in X.columns if X[cname].dtype in [\"int64\", \"float64\"]]\n",
    "print(len(num_cols))\n",
    "print(\"Numerical variables: {}\".format(num_cols))"
   ]
  },
  {
   "cell_type": "code",
   "execution_count": 181,
   "metadata": {},
   "outputs": [
    {
     "name": "stdout",
     "output_type": "stream",
     "text": [
      "Categorical variables: ['MSZoning', 'Street', 'Alley', 'LotShape', 'LandContour', 'Utilities', 'LotConfig', 'LandSlope', 'Neighborhood', 'Condition1', 'Condition2', 'BldgType', 'HouseStyle', 'RoofStyle', 'RoofMatl', 'Exterior1st', 'Exterior2nd', 'MasVnrType', 'ExterQual', 'ExterCond', 'Foundation', 'BsmtQual', 'BsmtCond', 'BsmtExposure', 'BsmtFinType1', 'BsmtFinType2', 'Heating', 'HeatingQC', 'CentralAir', 'Electrical', 'KitchenQual', 'Functional', 'FireplaceQu', 'GarageType', 'GarageFinish', 'GarageQual', 'GarageCond', 'PavedDrive', 'PoolQC', 'Fence', 'MiscFeature', 'SaleType', 'SaleCondition']\n"
     ]
    }
   ],
   "source": [
    "# カテゴリー特徴量の把握\n",
    "s = (X.dtypes == \"object\")\n",
    "cat_cols = list(s[s].index)\n",
    "\n",
    "print(\"Categorical variables: {}\".format(cat_cols))"
   ]
  },
  {
   "cell_type": "code",
   "execution_count": 182,
   "metadata": {},
   "outputs": [
    {
     "name": "stdout",
     "output_type": "stream",
     "text": [
      "[('Street', 2), ('Utilities', 2), ('CentralAir', 2), ('Alley', 3), ('LandSlope', 3), ('PavedDrive', 3), ('LotShape', 4), ('LandContour', 4), ('ExterQual', 4), ('KitchenQual', 4), ('GarageFinish', 4), ('PoolQC', 4), ('MSZoning', 5), ('LotConfig', 5), ('BldgType', 5), ('MasVnrType', 5), ('ExterCond', 5), ('BsmtQual', 5), ('BsmtCond', 5), ('BsmtExposure', 5), ('HeatingQC', 5), ('Fence', 5), ('MiscFeature', 5), ('RoofStyle', 6), ('Foundation', 6), ('Heating', 6), ('Electrical', 6), ('FireplaceQu', 6), ('GarageQual', 6), ('GarageCond', 6), ('SaleCondition', 6), ('BsmtFinType1', 7), ('BsmtFinType2', 7), ('Functional', 7), ('GarageType', 7), ('Condition2', 8), ('HouseStyle', 8), ('RoofMatl', 8), ('Condition1', 9), ('SaleType', 9), ('Exterior1st', 15), ('Exterior2nd', 16), ('Neighborhood', 25)]\n"
     ]
    }
   ],
   "source": [
    "# カテゴリー特徴量ごとのユニークな特徴量の数を調べる\n",
    "cat_dict = {}\n",
    "for col in X[cat_cols].columns:\n",
    "    cat_dict[col] = len(X[col].unique())\n",
    "cat_dict = sorted(cat_dict.items(), key=lambda x: x[1])\n",
    "print(cat_dict)"
   ]
  },
  {
   "cell_type": "markdown",
   "metadata": {},
   "source": [
    "カテゴリ属性を順序尺度と名義尺度に分けて、順序尺度を通常エンコード、名義尺度をOneHotエンコードする。"
   ]
  },
  {
   "cell_type": "code",
   "execution_count": 183,
   "metadata": {},
   "outputs": [],
   "source": [
    "# 順序尺度\n",
    "cat_ord = [\"Utilities\", \"ExterQual\", \"ExterCond\", \"BsmtQual\", \"BsmtCond\", \"BsmtExposure\",\n",
    "           \"BsmtFinType1\", \"BsmtFinType2\", \"HeatingQC\", \"KitchenQual\", \"FireplaceQu\",\n",
    "           \"GarageFinish\", \"GarageQual\", \"GarageCond\", \"PoolQC\", \"Fence\"]\n",
    "# 名義尺度\n",
    "cat_nom = [\"MSZoning\", \"Street\", \"Alley\", \"LotShape\", \"LandContour\", \"LotConfig\",\n",
    "           \"LandSlope\", \"Condition1\", \"Condition2\", \"BldgType\", \"HouseStyle\",\n",
    "           \"RoofStyle\", \"RoofMatl\", \"MasVnrType\", \"Foundation\", \"Heating\", \"CentralAir\",\n",
    "           \"Electrical\", \"Functional\", \"GarageType\", \"PavedDrive\", \"SaleType\", \"SaleCondition\"]"
   ]
  },
  {
   "cell_type": "code",
   "execution_count": 184,
   "metadata": {},
   "outputs": [
    {
     "name": "stdout",
     "output_type": "stream",
     "text": [
      "{'BsmtQual': 37, 'BsmtCond': 37, 'BsmtExposure': 38, 'BsmtFinType1': 37, 'BsmtFinType2': 38, 'FireplaceQu': 690, 'GarageFinish': 81, 'GarageQual': 81, 'GarageCond': 81, 'PoolQC': 1453, 'Fence': 1179, 'Alley': 1369, 'MasVnrType': 8, 'Electrical': 1, 'GarageType': 81}\n"
     ]
    }
   ],
   "source": [
    "# カテゴリー特徴量のうち、NANがある特徴量とその数を調べる\n",
    "nan_dict = {}\n",
    "for col in X[cat_ord + cat_nom].columns:\n",
    "    if X[col].isnull().sum() > 0:\n",
    "        nan_dict[col] = X[col].isnull().sum()\n",
    "print(nan_dict)\n"
   ]
  },
  {
   "cell_type": "code",
   "execution_count": 185,
   "metadata": {},
   "outputs": [],
   "source": [
    "# ユニーク特徴量の数が10を超える特徴量は除外\n",
    "# MiscFeatureも除外"
   ]
  },
  {
   "cell_type": "code",
   "execution_count": 186,
   "metadata": {},
   "outputs": [],
   "source": [
    "# カテゴリ特徴量の順序尺度をそれぞれの尺度に合わせた数値に変換する\n",
    "\n",
    "def encode_cat_ord(X):\n",
    "    X[\"Utilities\"][X[\"Utilities\"] == \"AllPub\"] = 4\n",
    "    X[\"Utilities\"][X[\"Utilities\"] == \"NoSewr\"] = 3\n",
    "    X[\"Utilities\"][X[\"Utilities\"] == \"NoSeWa\"] = 2\n",
    "    X[\"Utilities\"][X[\"Utilities\"] == \"ELO\"] = 1\n",
    "    \n",
    "    X[\"ExterQual\"][X[\"ExterQual\"] == \"Ex\"] = 5\n",
    "    X[\"ExterQual\"][X[\"ExterQual\"] == \"Gd\"] = 4\n",
    "    X[\"ExterQual\"][X[\"ExterQual\"] == \"TA\"] = 3\n",
    "    X[\"ExterQual\"][X[\"ExterQual\"] == \"Fa\"] = 2\n",
    "    X[\"ExterQual\"][X[\"ExterQual\"] == \"Po\"] = 1\n",
    "    \n",
    "    X[\"ExterCond\"][X[\"ExterCond\"] == \"Ex\"] = 5\n",
    "    X[\"ExterCond\"][X[\"ExterCond\"] == \"Gd\"] = 4\n",
    "    X[\"ExterCond\"][X[\"ExterCond\"] == \"TA\"] = 3\n",
    "    X[\"ExterCond\"][X[\"ExterCond\"] == \"Fa\"] = 2\n",
    "    X[\"ExterCond\"][X[\"ExterCond\"] == \"Po\"] = 1\n",
    "    \n",
    "    X[\"BsmtQual\"][X[\"BsmtQual\"] == \"Ex\"] = 5\n",
    "    X[\"BsmtQual\"][X[\"BsmtQual\"] == \"Gd\"] = 4\n",
    "    X[\"BsmtQual\"][X[\"BsmtQual\"] == \"TA\"] = 3\n",
    "    X[\"BsmtQual\"][X[\"BsmtQual\"] == \"Fa\"] = 2\n",
    "    X[\"BsmtQual\"][X[\"BsmtQual\"] == \"Po\"] = 1\n",
    "    X[\"BsmtQual\"][X[\"BsmtQual\"].isnull()] = 0\n",
    "    \n",
    "    X[\"BsmtCond\"][X[\"BsmtCond\"] == \"Ex\"] = 5\n",
    "    X[\"BsmtCond\"][X[\"BsmtCond\"] == \"Gd\"] = 4\n",
    "    X[\"BsmtCond\"][X[\"BsmtCond\"] == \"TA\"] = 3\n",
    "    X[\"BsmtCond\"][X[\"BsmtCond\"] == \"Fa\"] = 2\n",
    "    X[\"BsmtCond\"][X[\"BsmtCond\"] == \"Po\"] = 1\n",
    "    X[\"BsmtCond\"][X[\"BsmtCond\"].isnull()] = 0\n",
    "    \n",
    "    X[\"BsmtExposure\"][X[\"BsmtExposure\"] == \"Gd\"] = 4\n",
    "    X[\"BsmtExposure\"][X[\"BsmtExposure\"] == \"Av\"] = 3\n",
    "    X[\"BsmtExposure\"][X[\"BsmtExposure\"] == \"Mn\"] = 2\n",
    "    X[\"BsmtExposure\"][X[\"BsmtExposure\"] == \"No\"] = 1\n",
    "    X[\"BsmtExposure\"][X[\"BsmtExposure\"].isnull()] = 0\n",
    "    \n",
    "    X[\"BsmtFinType1\"][X[\"BsmtFinType1\"] == \"GLQ\"] = 6\n",
    "    X[\"BsmtFinType1\"][X[\"BsmtFinType1\"] == \"ALQ\"] = 5\n",
    "    X[\"BsmtFinType1\"][X[\"BsmtFinType1\"] == \"BLQ\"] = 4\n",
    "    X[\"BsmtFinType1\"][X[\"BsmtFinType1\"] == \"Rec\"] = 3\n",
    "    X[\"BsmtFinType1\"][X[\"BsmtFinType1\"] == \"LwQ\"] = 2\n",
    "    X[\"BsmtFinType1\"][X[\"BsmtFinType1\"] == \"Unf\"] = 1\n",
    "    X[\"BsmtFinType1\"][X[\"BsmtFinType1\"].isnull()] = 0\n",
    "    \n",
    "    X[\"BsmtFinType2\"][X[\"BsmtFinType2\"] == \"GLQ\"] = 6\n",
    "    X[\"BsmtFinType2\"][X[\"BsmtFinType2\"] == \"ALQ\"] = 5\n",
    "    X[\"BsmtFinType2\"][X[\"BsmtFinType2\"] == \"BLQ\"] = 4\n",
    "    X[\"BsmtFinType2\"][X[\"BsmtFinType2\"] == \"Rec\"] = 3\n",
    "    X[\"BsmtFinType2\"][X[\"BsmtFinType2\"] == \"LwQ\"] = 2\n",
    "    X[\"BsmtFinType2\"][X[\"BsmtFinType2\"] == \"Unf\"] = 1\n",
    "    X[\"BsmtFinType2\"][X[\"BsmtFinType2\"].isnull()] = 0\n",
    "    \n",
    "    X[\"HeatingQC\"][X[\"HeatingQC\"] == \"Ex\"] = 5\n",
    "    X[\"HeatingQC\"][X[\"HeatingQC\"] == \"Gd\"] = 4\n",
    "    X[\"HeatingQC\"][X[\"HeatingQC\"] == \"TA\"] = 3\n",
    "    X[\"HeatingQC\"][X[\"HeatingQC\"] == \"Fa\"] = 2\n",
    "    X[\"HeatingQC\"][X[\"HeatingQC\"] == \"Po\"] = 1\n",
    "    \n",
    "    X[\"KitchenQual\"][X[\"KitchenQual\"] == \"Ex\"] = 5\n",
    "    X[\"KitchenQual\"][X[\"KitchenQual\"] == \"Gd\"] = 4\n",
    "    X[\"KitchenQual\"][X[\"KitchenQual\"] == \"TA\"] = 3\n",
    "    X[\"KitchenQual\"][X[\"KitchenQual\"] == \"Fa\"] = 2\n",
    "    X[\"KitchenQual\"][X[\"KitchenQual\"] == \"Po\"] = 1\n",
    "    \n",
    "    X[\"FireplaceQu\"][X[\"FireplaceQu\"] == \"Ex\"] = 5\n",
    "    X[\"FireplaceQu\"][X[\"FireplaceQu\"] == \"Gd\"] = 4\n",
    "    X[\"FireplaceQu\"][X[\"FireplaceQu\"] == \"TA\"] = 3\n",
    "    X[\"FireplaceQu\"][X[\"FireplaceQu\"] == \"Fa\"] = 2\n",
    "    X[\"FireplaceQu\"][X[\"FireplaceQu\"] == \"Po\"] = 1\n",
    "    X[\"FireplaceQu\"][X[\"FireplaceQu\"].isnull()] = 0\n",
    "    \n",
    "    X[\"GarageFinish\"][X[\"GarageFinish\"] == \"Fin\"] = 3\n",
    "    X[\"GarageFinish\"][X[\"GarageFinish\"] == \"RFn\"] = 2\n",
    "    X[\"GarageFinish\"][X[\"GarageFinish\"] == \"Unf\"] = 1\n",
    "    X[\"GarageFinish\"][X[\"GarageFinish\"].isnull()] = 0\n",
    "    \n",
    "    X[\"GarageQual\"][X[\"GarageQual\"] == \"Ex\"] = 5\n",
    "    X[\"GarageQual\"][X[\"GarageQual\"] == \"Gd\"] = 4\n",
    "    X[\"GarageQual\"][X[\"GarageQual\"] == \"TA\"] = 3\n",
    "    X[\"GarageQual\"][X[\"GarageQual\"] == \"Fa\"] = 2\n",
    "    X[\"GarageQual\"][X[\"GarageQual\"] == \"Po\"] = 1\n",
    "    X[\"GarageQual\"][X[\"GarageQual\"].isnull()] = 0\n",
    "    \n",
    "    X[\"GarageCond\"][X[\"GarageCond\"] == \"Ex\"] = 5\n",
    "    X[\"GarageCond\"][X[\"GarageCond\"] == \"Gd\"] = 4\n",
    "    X[\"GarageCond\"][X[\"GarageCond\"] == \"TA\"] = 3\n",
    "    X[\"GarageCond\"][X[\"GarageCond\"] == \"Fa\"] = 2\n",
    "    X[\"GarageCond\"][X[\"GarageCond\"] == \"Po\"] = 1\n",
    "    X[\"GarageCond\"][X[\"GarageCond\"].isnull()] = 0\n",
    "    \n",
    "    X[\"PoolQC\"][X[\"PoolQC\"] == \"Ex\"] = 4\n",
    "    X[\"PoolQC\"][X[\"PoolQC\"] == \"Gd\"] = 3\n",
    "    X[\"PoolQC\"][X[\"PoolQC\"] == \"TA\"] = 2\n",
    "    X[\"PoolQC\"][X[\"PoolQC\"] == \"Fa\"] = 1\n",
    "    X[\"PoolQC\"][X[\"PoolQC\"].isnull()] = 0\n",
    "    \n",
    "    X[\"Fence\"][X[\"Fence\"] == \"GdPrv\"] = 4\n",
    "    X[\"Fence\"][X[\"Fence\"] == \"MnPrv\"] = 3\n",
    "    X[\"Fence\"][X[\"Fence\"] == \"GdWo\"] = 2\n",
    "    X[\"Fence\"][X[\"Fence\"] == \"MnWw\"] = 1\n",
    "    X[\"Fence\"][X[\"Fence\"].isnull()] = 0\n",
    "    \n",
    "    return X"
   ]
  },
  {
   "cell_type": "code",
   "execution_count": 187,
   "metadata": {},
   "outputs": [],
   "source": [
    "# カテゴリ特徴量のパイプラインの作成\n",
    "# Ordinalエンコードする特徴量\n",
    "from sklearn.base import BaseEstimator, TransformerMixin\n",
    "\n",
    "class OrdEncoder(BaseEstimator, TransformerMixin):\n",
    "    def __init__(self):\n",
    "        pass\n",
    "    def fit(self, X, y=None):\n",
    "        return self\n",
    "    def transform(self, X):\n",
    "        return encode_cat_ord(X)\n",
    "\n",
    "# OneHotエンコードする特徴量\n",
    "from sklearn.preprocessing import OneHotEncoder\n",
    "\n",
    "from sklearn.compose import ColumnTransformer\n",
    "from sklearn.pipeline import Pipeline\n",
    "from sklearn.impute import SimpleImputer\n",
    "\n",
    "cat_ord_transformer = Pipeline(steps=[\n",
    "    (\"ord_encoder\", OrdEncoder())\n",
    "])\n",
    "\n",
    "cat_nom_transformer = Pipeline(steps=[\n",
    "    (\"imputer\", SimpleImputer(strategy=\"constant\")),\n",
    "    (\"oh_encoder\", OneHotEncoder(handle_unknown=\"ignore\"))\n",
    "])\n"
   ]
  },
  {
   "cell_type": "code",
   "execution_count": 188,
   "metadata": {},
   "outputs": [],
   "source": [
    "# 数値特徴量の前処理\n",
    "numerical_transformer = SimpleImputer(strategy=\"median\")"
   ]
  },
  {
   "cell_type": "code",
   "execution_count": 189,
   "metadata": {},
   "outputs": [],
   "source": [
    "# 前処理のパイプラインの作成\n",
    "preprocessor = ColumnTransformer(\n",
    "    transformers=[\n",
    "        (\"num\", numerical_transformer, num_cols),\n",
    "        (\"cat_ord\", cat_ord_transformer, cat_ord),\n",
    "        (\"cat_nom\", cat_nom_transformer, cat_nom)\n",
    "    ]\n",
    ")"
   ]
  },
  {
   "cell_type": "code",
   "execution_count": 190,
   "metadata": {},
   "outputs": [],
   "source": [
    "# モデルの作成\n",
    "from sklearn.ensemble import RandomForestRegressor\n",
    "\n",
    "rnd_forest = RandomForestRegressor(n_estimators=100, random_state=0)"
   ]
  },
  {
   "cell_type": "code",
   "execution_count": 199,
   "metadata": {},
   "outputs": [],
   "source": [
    "\"\"\"\n",
    "# グリッドサーチ\n",
    "from sklearn.model_selection import GridSearchCV\n",
    "\n",
    "param_grid = [\n",
    "    {\"n_estimators\": [50, 100, 500, 750, 1000]}\n",
    "]\n",
    "grid_search = GridSearchCV(rnd_forest, param_grid, cv=3,\n",
    "                           scoring=\"neg_mean_squared_log_error\")\n",
    "\"\"\""
   ]
  },
  {
   "cell_type": "code",
   "execution_count": 204,
   "metadata": {},
   "outputs": [
    {
     "data": {
      "text/plain": [
       "Pipeline(steps=[('preprocessor',\n",
       "                 ColumnTransformer(transformers=[('num',\n",
       "                                                  SimpleImputer(strategy='median'),\n",
       "                                                  ['MSSubClass', 'LotFrontage',\n",
       "                                                   'LotArea', 'OverallQual',\n",
       "                                                   'OverallCond', 'YearBuilt',\n",
       "                                                   'YearRemodAdd', 'MasVnrArea',\n",
       "                                                   'BsmtFinSF1', 'BsmtFinSF2',\n",
       "                                                   'BsmtUnfSF', 'TotalBsmtSF',\n",
       "                                                   '1stFlrSF', '2ndFlrSF',\n",
       "                                                   'LowQualFinSF', 'GrLivArea',\n",
       "                                                   'BsmtFullBath',\n",
       "                                                   'BsmtHalfBath', 'FullBath...\n",
       "                                                   'Condition2', 'BldgType',\n",
       "                                                   'HouseStyle', 'RoofStyle',\n",
       "                                                   'RoofMatl', 'MasVnrType',\n",
       "                                                   'Foundation', 'Heating',\n",
       "                                                   'CentralAir', 'Electrical',\n",
       "                                                   'Functional', 'GarageType',\n",
       "                                                   'PavedDrive', 'SaleType',\n",
       "                                                   'SaleCondition'])])),\n",
       "                ('grid_search',\n",
       "                 GridSearchCV(cv=3,\n",
       "                              estimator=RandomForestRegressor(random_state=0),\n",
       "                              param_grid=[{'n_estimators': [50, 100, 500, 750,\n",
       "                                                            1000]}],\n",
       "                              scoring='neg_mean_squared_log_error'))])"
      ]
     },
     "execution_count": 204,
     "metadata": {},
     "output_type": "execute_result"
    }
   ],
   "source": [
    "\"\"\"\n",
    "# 全体のパイプライン\n",
    "my_pipeline = Pipeline(steps=[\n",
    "    (\"preprocessor\", preprocessor),\n",
    "    (\"grid_search\", grid_search)\n",
    "])\n",
    "\n",
    "my_pipeline.fit(X, y)\n",
    "\"\"\""
   ]
  },
  {
   "cell_type": "code",
   "execution_count": 205,
   "metadata": {},
   "outputs": [
    {
     "name": "stdout",
     "output_type": "stream",
     "text": [
      "{'n_estimators': 1000} RandomForestRegressor(n_estimators=1000, random_state=0) 0.021878263465652508\n"
     ]
    }
   ],
   "source": [
    "# print(grid_search.best_params_, grid_search.best_estimator_, -grid_search.best_score_)"
   ]
  },
  {
   "cell_type": "code",
   "execution_count": 206,
   "metadata": {},
   "outputs": [],
   "source": [
    "# 評価関数の定義\n",
    "from sklearn.metrics import mean_squared_log_error\n",
    "\n",
    "def get_score(X, y, model):\n",
    "    y_pred = model.predict(X)\n",
    "    return mean_squared_log_error(y, y_pred)"
   ]
  },
  {
   "cell_type": "code",
   "execution_count": 207,
   "metadata": {},
   "outputs": [
    {
     "data": {
      "text/plain": [
       "0.0033583107154468756"
      ]
     },
     "execution_count": 207,
     "metadata": {},
     "output_type": "execute_result"
    }
   ],
   "source": [
    "get_score(X, y, my_pipeline)"
   ]
  },
  {
   "cell_type": "code",
   "execution_count": 210,
   "metadata": {},
   "outputs": [
    {
     "data": {
      "text/plain": [
       "Pipeline(steps=[('preprocessor',\n",
       "                 ColumnTransformer(transformers=[('num',\n",
       "                                                  SimpleImputer(strategy='median'),\n",
       "                                                  ['MSSubClass', 'LotFrontage',\n",
       "                                                   'LotArea', 'OverallQual',\n",
       "                                                   'OverallCond', 'YearBuilt',\n",
       "                                                   'YearRemodAdd', 'MasVnrArea',\n",
       "                                                   'BsmtFinSF1', 'BsmtFinSF2',\n",
       "                                                   'BsmtUnfSF', 'TotalBsmtSF',\n",
       "                                                   '1stFlrSF', '2ndFlrSF',\n",
       "                                                   'LowQualFinSF', 'GrLivArea',\n",
       "                                                   'BsmtFullBath',\n",
       "                                                   'BsmtHalfBath', 'FullBath...\n",
       "                                                     monotone_constraints=None,\n",
       "                                                     n_estimators=100, n_jobs=6,\n",
       "                                                     num_parallel_tree=None,\n",
       "                                                     predictor=None,\n",
       "                                                     random_state=0,\n",
       "                                                     reg_alpha=None,\n",
       "                                                     reg_lambda=None,\n",
       "                                                     scale_pos_weight=None,\n",
       "                                                     subsample=None,\n",
       "                                                     tree_method=None,\n",
       "                                                     validate_parameters=None,\n",
       "                                                     verbosity=None),\n",
       "                              param_grid=[{'learning_rate': [0.005, 0.01, 0.05,\n",
       "                                                             0.1],\n",
       "                                           'n_estimators': [100, 300, 500, 700,\n",
       "                                                            1000]}],\n",
       "                              scoring='neg_mean_squared_log_error'))])"
      ]
     },
     "execution_count": 210,
     "metadata": {},
     "output_type": "execute_result"
    }
   ],
   "source": [
    "# XGBoost\n",
    "from xgboost import XGBRegressor\n",
    "\n",
    "xgb = XGBRegressor(n_jobs=6, random_state=0)\n",
    "\n",
    "param_grid = [\n",
    "    {\"n_estimators\": [100, 300, 500, 700, 1000],\n",
    "     \"learning_rate\": [0.005, 0.01, 0.05, 0.1]}\n",
    "]\n",
    "\n",
    "grid_search = GridSearchCV(xgb, param_grid, cv=3,\n",
    "                           scoring=\"neg_mean_squared_log_error\")\n",
    "\n",
    "my_pipeline = Pipeline(steps=[\n",
    "    (\"preprocessor\", preprocessor),\n",
    "    (\"grid_search\", grid_search)\n",
    "])\n",
    "\n",
    "my_pipeline.fit(X, y)"
   ]
  },
  {
   "cell_type": "code",
   "execution_count": 212,
   "metadata": {},
   "outputs": [
    {
     "name": "stdout",
     "output_type": "stream",
     "text": [
      "{'learning_rate': 0.1, 'n_estimators': 300} XGBRegressor(base_score=0.5, booster='gbtree', colsample_bylevel=1,\n",
      "             colsample_bynode=1, colsample_bytree=1, enable_categorical=False,\n",
      "             gamma=0, gpu_id=-1, importance_type=None,\n",
      "             interaction_constraints='', learning_rate=0.1, max_delta_step=0,\n",
      "             max_depth=6, min_child_weight=1, missing=nan,\n",
      "             monotone_constraints='()', n_estimators=300, n_jobs=6,\n",
      "             num_parallel_tree=1, predictor='auto', random_state=0, reg_alpha=0,\n",
      "             reg_lambda=1, scale_pos_weight=1, subsample=1, tree_method='exact',\n",
      "             validate_parameters=1, verbosity=None) 0.018336175374916372\n"
     ]
    }
   ],
   "source": [
    "print(grid_search.best_params_, grid_search.best_estimator_, -grid_search.best_score_)"
   ]
  },
  {
   "cell_type": "code",
   "execution_count": 234,
   "metadata": {},
   "outputs": [
    {
     "data": {
      "text/plain": [
       "Int64Index([1461, 1462, 1463, 1464, 1465, 1466, 1467, 1468, 1469, 1470,\n",
       "            ...\n",
       "            2910, 2911, 2912, 2913, 2914, 2915, 2916, 2917, 2918, 2919],\n",
       "           dtype='int64', name='Id', length=1459)"
      ]
     },
     "execution_count": 234,
     "metadata": {},
     "output_type": "execute_result"
    }
   ],
   "source": [
    "# Testデータの読み込み\n",
    "test_data_path = \"./data/test.csv\"\n",
    "\n",
    "test_data = pd.read_csv(test_data_path, index_col=\"Id\")\n",
    "test_data.index"
   ]
  },
  {
   "cell_type": "code",
   "execution_count": 230,
   "metadata": {},
   "outputs": [],
   "source": [
    "X_test = preprocessor.transform(test_data)"
   ]
  },
  {
   "cell_type": "code",
   "execution_count": 231,
   "metadata": {},
   "outputs": [],
   "source": [
    "y_pred = grid_search.predict(X_test)"
   ]
  },
  {
   "cell_type": "code",
   "execution_count": 238,
   "metadata": {},
   "outputs": [],
   "source": [
    "output = pd.DataFrame({\"Id\": test_data.index,\n",
    "                       \"SalePrice\": y_pred})\n",
    "output.to_csv(\"./data/submission.csv\", index=False)"
   ]
  },
  {
   "cell_type": "code",
   "execution_count": null,
   "metadata": {},
   "outputs": [],
   "source": []
  }
 ],
 "metadata": {
  "interpreter": {
   "hash": "58c2a3ff7e59d0b32680f9a517818b9df55e62e428a604d8aea204238af5f69e"
  },
  "kernelspec": {
   "display_name": "Python 3.9.7 64-bit ('machinelearning': conda)",
   "language": "python",
   "name": "python3"
  },
  "language_info": {
   "codemirror_mode": {
    "name": "ipython",
    "version": 3
   },
   "file_extension": ".py",
   "mimetype": "text/x-python",
   "name": "python",
   "nbconvert_exporter": "python",
   "pygments_lexer": "ipython3",
   "version": "3.9.7"
  },
  "orig_nbformat": 4
 },
 "nbformat": 4,
 "nbformat_minor": 2
}
